{
  "cells": [
    {
      "cell_type": "code",
      "execution_count": 9,
      "metadata": {
        "id": "mMEk6ePING4m"
      },
      "outputs": [],
      "source": [
        "import math\n",
        "import numpy as np\n",
        "import pandas as pd\n",
        "import math\n",
        "from sklearn.model_selection import train_test_split\n",
        "from sklearn.ensemble import RandomForestClassifier, GradientBoostingClassifier\n",
        "from sklearn.metrics import accuracy_score, classification_report"
      ]
    },
    {
      "cell_type": "code",
      "execution_count": 10,
      "metadata": {
        "id": "zyc-TqQQdtch"
      },
      "outputs": [],
      "source": [
        "def get_amp_phase(data, position, width, is_calibrated=False, calibration=None, lookup_size=100):\n",
        "    \"\"\"\n",
        "    Calculate the amplitude and phase of the Lissajous curve.\n",
        "\n",
        "    :param data: List of tuples [(x1, y1), (x2, y2), ...] representing the data points.\n",
        "    :param position: Central position in the data to analyze.\n",
        "    :param width: Window width around the position.\n",
        "    :param is_calibrated: Whether to apply calibration to amplitude.\n",
        "    :param calibration: Dictionary with calibration factors {'voltage': float, 'amplitude': float}.\n",
        "    :param lookup_size: Size of the lookup range for filtering distant points.\n",
        "    :return: Tuple (amplitude, phase) where amplitude is the distance and phase is in degrees.\n",
        "    \"\"\"\n",
        "    n_points = len(data)\n",
        "    p1 = max(0, position - width // 2)\n",
        "    p2 = min(n_points - 1, position + width // 2)\n",
        "\n",
        "    # Initialize indices and min/max values\n",
        "    A = B = C = D = p1\n",
        "    min_x = max_x = data[p1][0]\n",
        "    min_y = max_y = data[p1][1]\n",
        "\n",
        "    # Find extreme points based on X values\n",
        "    for i in range(p1 + 1, p2 + 1):\n",
        "        if data[i][0] < min_x:\n",
        "            min_x = data[i][0]\n",
        "            A = i\n",
        "        if data[i][0] > max_x:\n",
        "            max_x = data[i][0]\n",
        "            B = i\n",
        "\n",
        "    # Find extreme points based on Y values\n",
        "    for i in range(p1 + 1, p2 + 1):\n",
        "        if data[i][1] < min_y:\n",
        "            min_y = data[i][1]\n",
        "            C = i\n",
        "        if data[i][1] > max_y:\n",
        "            max_y = data[i][1]\n",
        "            D = i\n",
        "\n",
        "    # Adjust ranges for lookup\n",
        "    if C < A:\n",
        "        A, C = C, A\n",
        "    if D < B:\n",
        "        B, D = D, B\n",
        "\n",
        "    if (C - A) > lookup_size:\n",
        "        tA = (A + C - lookup_size) // 2\n",
        "        tC = (A + C + lookup_size) // 2\n",
        "        A, C = tA, tC\n",
        "    if (D - B) > lookup_size:\n",
        "        tB = (B + D - lookup_size) // 2\n",
        "        tD = (B + D + lookup_size) // 2\n",
        "        B, D = tB, tD\n",
        "\n",
        "    # Find the most distant points\n",
        "    max_dist = 0\n",
        "    q1 = q2 = None\n",
        "    for s1 in range(A, C + 1):\n",
        "        for s2 in range(B, D + 1):\n",
        "            dx = data[s1][0] - data[s2][0]\n",
        "            dy = data[s1][1] - data[s2][1]\n",
        "            dist = dx**2 + dy**2\n",
        "            if dist > max_dist:\n",
        "                max_dist = dist\n",
        "                q1, q2 = s1, s2\n",
        "\n",
        "    # Ensure indices are valid\n",
        "    q1 = min(q1, n_points - 1)\n",
        "    q2 = min(q2, n_points - 1)\n",
        "\n",
        "    # Swap if necessary to maintain order\n",
        "    if q1 < q2:\n",
        "        q1, q2 = q2, q1\n",
        "\n",
        "    # Calculate amplitude and phase\n",
        "    x1, y1 = data[q1]\n",
        "    x2, y2 = data[q2]\n",
        "    amplitude = math.sqrt((x2 - x1)**2 + (y2 - y1)**2)\n",
        "    if is_calibrated and calibration:\n",
        "        amplitude *= calibration['voltage'] / calibration['amplitude']\n",
        "\n",
        "    dx = x1 - x2\n",
        "    dy = y2 - y1\n",
        "    phase = math.degrees(math.atan2(dy, dx))\n",
        "    phase = phase % 360  # Normalize phase to [0, 360)\n",
        "\n",
        "    return amplitude, phase\n",
        "\n",
        "def extract_features(slice_df):\n",
        "    \"\"\"\n",
        "    Extract amplitude and phase features for each slice of data.\n",
        "    :param slice_df: DataFrame containing x and y data points (columns x0 and x1).\n",
        "    :return: Feature vector containing amplitude and phase.\n",
        "    \"\"\"\n",
        "    # Prepare data as a list of tuples [(x, y), ...]\n",
        "    data = list(zip(slice_df[\"0\"], slice_df[\"1\"]))\n",
        "\n",
        "    # Compute amplitude and phase around the center of the slice\n",
        "    position = len(data) // 2  # Use center of the slice\n",
        "    width = len(data)         # Use the full slice length as the window\n",
        "    amplitude, phase = get_amp_phase(data, position, width)\n",
        "\n",
        "    return np.array([amplitude, phase])"
      ]
    },
    {
      "cell_type": "code",
      "execution_count": 11,
      "metadata": {
        "id": "zC7a7WFyddu_"
      },
      "outputs": [
        {
          "name": "stdout",
          "output_type": "stream",
          "text": [
            "Index(['0_X', '0_Y', '1_X', '1_Y', '2_X', '2_Y', '3_X', '3_Y', 'slice_number',\n",
            "       'phase_0', 'phase_1', 'phase_2', 'phase_3'],\n",
            "      dtype='object')\n"
          ]
        }
      ],
      "source": [
        "df = pd.read_csv(\"saved/train_data/data_with_defects.csv\")\n",
        "print(df.columns)"
      ]
    },
    {
      "cell_type": "code",
      "execution_count": 14,
      "metadata": {
        "id": "XZldgVWuOkIw"
      },
      "outputs": [
        {
          "name": "stdout",
          "output_type": "stream",
          "text": [
            "           0_X       0_Y  slice_number  phase_0\n",
            "0    -6.918437  2.223775           NaN      NaN\n",
            "1    -6.908662  2.203251           NaN      NaN\n",
            "2    -6.930338  2.226994           NaN      NaN\n",
            "3    -6.918437  2.223775           NaN      NaN\n",
            "4    -6.925968  2.205377           NaN      NaN\n",
            "...        ...       ...           ...      ...\n",
            "5047 -0.860414 -0.140208           NaN      NaN\n",
            "5048 -0.856103 -0.133712           NaN      NaN\n",
            "5049 -0.853917 -0.144520           NaN      NaN\n",
            "5050 -0.870130 -0.147798           NaN      NaN\n",
            "5051 -0.869037 -0.153202           NaN      NaN\n",
            "\n",
            "[5052 rows x 4 columns]\n",
            "[nan -1.  3.  4.  1.  2.]\n"
          ]
        }
      ],
      "source": [
        "first_pair_df = df[['0_X', '0_Y', 'slice_number', 'phase_0']]\n",
        "print(first_pair_df)\n",
        "print(df['slice_number'].unique())"
      ]
    },
    {
      "cell_type": "code",
      "execution_count": 15,
      "metadata": {
        "id": "YY7V7Q24PH1S"
      },
      "outputs": [
        {
          "name": "stdout",
          "output_type": "stream",
          "text": [
            "           0_X       0_Y  slice_number  phase_0  target\n",
            "0    -6.918437  2.223775           NaN      NaN       0\n",
            "1    -6.908662  2.203251           NaN      NaN       0\n",
            "2    -6.930338  2.226994           NaN      NaN       0\n",
            "3    -6.918437  2.223775           NaN      NaN       0\n",
            "4    -6.925968  2.205377           NaN      NaN       0\n",
            "...        ...       ...           ...      ...     ...\n",
            "5047 -0.860414 -0.140208           NaN      NaN       0\n",
            "5048 -0.856103 -0.133712           NaN      NaN       0\n",
            "5049 -0.853917 -0.144520           NaN      NaN       0\n",
            "5050 -0.870130 -0.147798           NaN      NaN       0\n",
            "5051 -0.869037 -0.153202           NaN      NaN       0\n",
            "\n",
            "[5052 rows x 5 columns]\n",
            "[0 1]\n",
            "180\n"
          ]
        },
        {
          "name": "stderr",
          "output_type": "stream",
          "text": [
            "/tmp/ipykernel_30780/3860072893.py:1: SettingWithCopyWarning: \n",
            "A value is trying to be set on a copy of a slice from a DataFrame.\n",
            "Try using .loc[row_indexer,col_indexer] = value instead\n",
            "\n",
            "See the caveats in the documentation: https://pandas.pydata.org/pandas-docs/stable/user_guide/indexing.html#returning-a-view-versus-a-copy\n",
            "  first_pair_df['target'] = np.where(first_pair_df['slice_number'].isna(), 0, 1)\n"
          ]
        }
      ],
      "source": [
        "first_pair_df['target'] = np.where(first_pair_df['slice_number'].isna(), 0, 1)\n",
        "print(first_pair_df)\n",
        "print(first_pair_df['target'].unique())\n",
        "print(len(first_pair_df[first_pair_df['target']==1]))"
      ]
    },
    {
      "cell_type": "code",
      "execution_count": null,
      "metadata": {
        "id": "0lj8KD_rRoNC"
      },
      "outputs": [
        {
          "ename": "KeyError",
          "evalue": "\"None of [Index(['O_X', 'O_Y'], dtype='object')] are in the [columns]\"",
          "output_type": "error",
          "traceback": [
            "\u001b[0;31m---------------------------------------------------------------------------\u001b[0m",
            "\u001b[0;31mKeyError\u001b[0m                                  Traceback (most recent call last)",
            "Cell \u001b[0;32mIn[16], line 1\u001b[0m\n\u001b[0;32m----> 1\u001b[0m X \u001b[38;5;241m=\u001b[39m \u001b[43mfirst_pair_df\u001b[49m\u001b[43m[\u001b[49m\u001b[43m[\u001b[49m\u001b[38;5;124;43m'\u001b[39;49m\u001b[38;5;124;43mO_X\u001b[39;49m\u001b[38;5;124;43m'\u001b[39;49m\u001b[43m,\u001b[49m\u001b[43m \u001b[49m\u001b[38;5;124;43m'\u001b[39;49m\u001b[38;5;124;43mO_Y\u001b[39;49m\u001b[38;5;124;43m'\u001b[39;49m\u001b[43m]\u001b[49m\u001b[43m]\u001b[49m\n\u001b[1;32m      2\u001b[0m y \u001b[38;5;241m=\u001b[39m first_pair_df[\u001b[38;5;124m'\u001b[39m\u001b[38;5;124mtarget\u001b[39m\u001b[38;5;124m'\u001b[39m]\n\u001b[1;32m      4\u001b[0m X_train, X_test, y_train, y_test \u001b[38;5;241m=\u001b[39m train_test_split(X, y, test_size\u001b[38;5;241m=\u001b[39m\u001b[38;5;241m0.2\u001b[39m, random_state\u001b[38;5;241m=\u001b[39m\u001b[38;5;241m42\u001b[39m)\n",
            "File \u001b[0;32m~/Documents/Uni/et/analysis/.venv/lib/python3.13/site-packages/pandas/core/frame.py:4108\u001b[0m, in \u001b[0;36mDataFrame.__getitem__\u001b[0;34m(self, key)\u001b[0m\n\u001b[1;32m   4106\u001b[0m     \u001b[38;5;28;01mif\u001b[39;00m is_iterator(key):\n\u001b[1;32m   4107\u001b[0m         key \u001b[38;5;241m=\u001b[39m \u001b[38;5;28mlist\u001b[39m(key)\n\u001b[0;32m-> 4108\u001b[0m     indexer \u001b[38;5;241m=\u001b[39m \u001b[38;5;28;43mself\u001b[39;49m\u001b[38;5;241;43m.\u001b[39;49m\u001b[43mcolumns\u001b[49m\u001b[38;5;241;43m.\u001b[39;49m\u001b[43m_get_indexer_strict\u001b[49m\u001b[43m(\u001b[49m\u001b[43mkey\u001b[49m\u001b[43m,\u001b[49m\u001b[43m \u001b[49m\u001b[38;5;124;43m\"\u001b[39;49m\u001b[38;5;124;43mcolumns\u001b[39;49m\u001b[38;5;124;43m\"\u001b[39;49m\u001b[43m)\u001b[49m[\u001b[38;5;241m1\u001b[39m]\n\u001b[1;32m   4110\u001b[0m \u001b[38;5;66;03m# take() does not accept boolean indexers\u001b[39;00m\n\u001b[1;32m   4111\u001b[0m \u001b[38;5;28;01mif\u001b[39;00m \u001b[38;5;28mgetattr\u001b[39m(indexer, \u001b[38;5;124m\"\u001b[39m\u001b[38;5;124mdtype\u001b[39m\u001b[38;5;124m\"\u001b[39m, \u001b[38;5;28;01mNone\u001b[39;00m) \u001b[38;5;241m==\u001b[39m \u001b[38;5;28mbool\u001b[39m:\n",
            "File \u001b[0;32m~/Documents/Uni/et/analysis/.venv/lib/python3.13/site-packages/pandas/core/indexes/base.py:6200\u001b[0m, in \u001b[0;36mIndex._get_indexer_strict\u001b[0;34m(self, key, axis_name)\u001b[0m\n\u001b[1;32m   6197\u001b[0m \u001b[38;5;28;01melse\u001b[39;00m:\n\u001b[1;32m   6198\u001b[0m     keyarr, indexer, new_indexer \u001b[38;5;241m=\u001b[39m \u001b[38;5;28mself\u001b[39m\u001b[38;5;241m.\u001b[39m_reindex_non_unique(keyarr)\n\u001b[0;32m-> 6200\u001b[0m \u001b[38;5;28;43mself\u001b[39;49m\u001b[38;5;241;43m.\u001b[39;49m\u001b[43m_raise_if_missing\u001b[49m\u001b[43m(\u001b[49m\u001b[43mkeyarr\u001b[49m\u001b[43m,\u001b[49m\u001b[43m \u001b[49m\u001b[43mindexer\u001b[49m\u001b[43m,\u001b[49m\u001b[43m \u001b[49m\u001b[43maxis_name\u001b[49m\u001b[43m)\u001b[49m\n\u001b[1;32m   6202\u001b[0m keyarr \u001b[38;5;241m=\u001b[39m \u001b[38;5;28mself\u001b[39m\u001b[38;5;241m.\u001b[39mtake(indexer)\n\u001b[1;32m   6203\u001b[0m \u001b[38;5;28;01mif\u001b[39;00m \u001b[38;5;28misinstance\u001b[39m(key, Index):\n\u001b[1;32m   6204\u001b[0m     \u001b[38;5;66;03m# GH 42790 - Preserve name from an Index\u001b[39;00m\n",
            "File \u001b[0;32m~/Documents/Uni/et/analysis/.venv/lib/python3.13/site-packages/pandas/core/indexes/base.py:6249\u001b[0m, in \u001b[0;36mIndex._raise_if_missing\u001b[0;34m(self, key, indexer, axis_name)\u001b[0m\n\u001b[1;32m   6247\u001b[0m \u001b[38;5;28;01mif\u001b[39;00m nmissing:\n\u001b[1;32m   6248\u001b[0m     \u001b[38;5;28;01mif\u001b[39;00m nmissing \u001b[38;5;241m==\u001b[39m \u001b[38;5;28mlen\u001b[39m(indexer):\n\u001b[0;32m-> 6249\u001b[0m         \u001b[38;5;28;01mraise\u001b[39;00m \u001b[38;5;167;01mKeyError\u001b[39;00m(\u001b[38;5;124mf\u001b[39m\u001b[38;5;124m\"\u001b[39m\u001b[38;5;124mNone of [\u001b[39m\u001b[38;5;132;01m{\u001b[39;00mkey\u001b[38;5;132;01m}\u001b[39;00m\u001b[38;5;124m] are in the [\u001b[39m\u001b[38;5;132;01m{\u001b[39;00maxis_name\u001b[38;5;132;01m}\u001b[39;00m\u001b[38;5;124m]\u001b[39m\u001b[38;5;124m\"\u001b[39m)\n\u001b[1;32m   6251\u001b[0m     not_found \u001b[38;5;241m=\u001b[39m \u001b[38;5;28mlist\u001b[39m(ensure_index(key)[missing_mask\u001b[38;5;241m.\u001b[39mnonzero()[\u001b[38;5;241m0\u001b[39m]]\u001b[38;5;241m.\u001b[39munique())\n\u001b[1;32m   6252\u001b[0m     \u001b[38;5;28;01mraise\u001b[39;00m \u001b[38;5;167;01mKeyError\u001b[39;00m(\u001b[38;5;124mf\u001b[39m\u001b[38;5;124m\"\u001b[39m\u001b[38;5;132;01m{\u001b[39;00mnot_found\u001b[38;5;132;01m}\u001b[39;00m\u001b[38;5;124m not in index\u001b[39m\u001b[38;5;124m\"\u001b[39m)\n",
            "\u001b[0;31mKeyError\u001b[0m: \"None of [Index(['O_X', 'O_Y'], dtype='object')] are in the [columns]\""
          ]
        }
      ],
      "source": [
        "X = first_pair_df[['0_X', '0_Y']]\n",
        "y = first_pair_df['target']\n",
        "\n",
        "X_train, X_test, y_train, y_test = train_test_split(X, y, test_size=0.2, random_state=42)\n",
        "\n",
        "rf = GradientBoostingClassifier(n_estimators=300, max_depth=5, random_state=42)\n",
        "rf.fit(X_train, y_train)\n",
        "\n",
        "y_pred = rf.predict(X_test)\n",
        "print(\"Random Forest Test Accuracy:\", accuracy_score(y_test, y_pred))\n",
        "print(\"Classification Report:\")\n",
        "print(classification_report(y_test, y_pred))"
      ]
    },
    {
      "cell_type": "code",
      "execution_count": null,
      "metadata": {
        "id": "pmo_Yi2tUIKi"
      },
      "outputs": [
        {
          "name": "stdout",
          "output_type": "stream",
          "text": [
            "Test Accuracy: 0.9812067260138477\n",
            "Classification Report:\n",
            "              precision    recall  f1-score   support\n",
            "\n",
            "           0       0.99      0.99      0.99       959\n",
            "           1       0.84      0.79      0.81        52\n",
            "\n",
            "    accuracy                           0.98      1011\n",
            "   macro avg       0.91      0.89      0.90      1011\n",
            "weighted avg       0.98      0.98      0.98      1011\n",
            "\n"
          ]
        }
      ],
      "source": [
        "y_pred_probs = rf.predict_proba(X_test)[:, 1]\n",
        "y_pred = (y_pred_probs > 0.15).astype(int)\n",
        "print(\"Test Accuracy:\", accuracy_score(y_test, y_pred))\n",
        "print(\"Classification Report:\")\n",
        "print(classification_report(y_test, y_pred))"
      ]
    },
    {
      "cell_type": "code",
      "execution_count": null,
      "metadata": {},
      "outputs": [],
      "source": [
        "\n",
        "# 1. Load your new data\n",
        "new_df = pd.read_csv(\"saved/test/test2.csv\")\n",
        "\n",
        "\n",
        "# 3. If your model was simply trained on columns [0, 1], do:\n",
        "X_new = new_df[['0_X', '0_Y']]\n",
        "\n",
        "# 5. If you want probabilities (for example, to apply a threshold), use:\n",
        "y_new_pred_proba = rf.predict_proba(X_new)[:, 1]\n",
        "\n",
        "# Add 'defect_proba_1' column to the DataFrame\n",
        "new_df['defect_proba_2'] = y_new_pred_proba\n",
        "\n",
        "# Save the updated DataFrame back to the same file\n",
        "new_df.to_csv(\"saved/test copy.csv\", index=False)"
      ]
    }
  ],
  "metadata": {
    "colab": {
      "provenance": []
    },
    "kernelspec": {
      "display_name": ".venv",
      "language": "python",
      "name": "python3"
    },
    "language_info": {
      "codemirror_mode": {
        "name": "ipython",
        "version": 3
      },
      "file_extension": ".py",
      "mimetype": "text/x-python",
      "name": "python",
      "nbconvert_exporter": "python",
      "pygments_lexer": "ipython3",
      "version": "3.13.3"
    }
  },
  "nbformat": 4,
  "nbformat_minor": 0
}
